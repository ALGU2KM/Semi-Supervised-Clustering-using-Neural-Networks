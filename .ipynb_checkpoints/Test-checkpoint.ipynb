{
 "cells": [
  {
   "cell_type": "code",
   "execution_count": 1,
   "metadata": {},
   "outputs": [],
   "source": [
    "import os\n",
    "import gc\n",
    "import time\n",
    "import copy\n",
    "import torch\n",
    "import argparse\n",
    "import numpy as np\n",
    "from Model import *\n",
    "from torch import optim\n",
    "from DataLoader import *\n",
    "from helperUtils import *\n",
    "import matplotlib.pyplot as plt\n",
    "from torch.autograd import Variable\n",
    "from torchvision.datasets import MNIST\n",
    "from torchvision import transforms, utils\n",
    "from torch.utils.data import DataLoader, Dataset\n",
    "from tensorboard_logger import configure, log_value\n",
    "from sklearn.metrics import normalized_mutual_info_score"
   ]
  },
  {
   "cell_type": "code",
   "execution_count": 2,
   "metadata": {},
   "outputs": [],
   "source": [
    "## Loading the testing data.\n",
    "testData = testDataSet('FRGC')\n",
    "\n",
    "## Creating the test loader.\n",
    "testLoader = DataLoader(testData, batch_size = 64, shuffle = True)"
   ]
  },
  {
   "cell_type": "code",
   "execution_count": 3,
   "metadata": {},
   "outputs": [],
   "source": [
    "## Loading the trained model.\n",
    "Model = torch.load('./TrainingResults/FRGC/PreTraining/Percentage10/λAnnealResults/AutoEncoderλAnneal.pkl', map_location = 'cpu' )\n",
    "\n",
    "## Loading the cluster centers.\n",
    "clusterCenters = torch.from_numpy(np.load('./TrainingResults/FRGC/PreTraining/Percentage10/λAnnealResults/clusterCenters.npy'))\n",
    "\n",
    "## Directory for saving the original and reconstructed images.\n",
    "saveDir = './TestingResults/FRGC/Images/'"
   ]
  },
  {
   "cell_type": "code",
   "execution_count": 5,
   "metadata": {},
   "outputs": [],
   "source": [
    "## Creating placeholders for storing the predicted and true cluster labels.\n",
    "yPredAll = []\n",
    "yTrueAll = []\n",
    "\n",
    "## Setting the AutoEncder to evaluation model.\n",
    "Model.eval()\n",
    "\n",
    "with torch.no_grad():\n",
    "    \n",
    "    for batchIndex, data in enumerate(testLoader):\n",
    "        \n",
    "        ## Loading the data batch.\n",
    "        imgBatch, labelBatch = data\n",
    "        imgBatchV, labelBatchV = Variable(imgBatch), Variable(labelBatch)\n",
    "        ## imgBatchV, labelBatchV = Variable(imgBatch.cuda()), Variable(labelBatch.cuda())\n",
    "        \n",
    "        ## Performing the forward pass.\n",
    "        encodings, reconstructions = Model(imgBatchV)\n",
    "        \n",
    "        ## Saving the original inputs as well as the reconstructions.\n",
    "#         utils.save_image(imgBatch.data.cpu(), saveDir + str(batchIndex) + 'Original.png', nrow = 4)\n",
    "#         utils.save_image(reconstructions.data.cpu(), saveDir + str(batchIndex) + 'Reconstructed.png', nrow = 4)\n",
    "        \n",
    "        ## Expanding the encodings and the cluster centers.\n",
    "        encodingsExpand = encodings.unsqueeze(1).expand(encodings.size(0), 20, 32)\n",
    "        clusterCentersExpand = clusterCenters.clone().unsqueeze(0).expand(encodings.size(0), 20, 32)\n",
    "        \n",
    "        ## Computing the distances of the encodings from the cluster centers.\n",
    "        distMat = torch.pow(encodingsExpand - clusterCentersExpand, 2).sum(2)\n",
    "        \n",
    "        ## Computing the cluster center label having the minimum distance from the particular image encoding.\n",
    "        _ , predClus = torch.min(distMat, dim = 1)\n",
    "        \n",
    "        ## Adding the predictions to the global list.\n",
    "        yPredAll.extend(list(predClus.data.cpu().numpy()))\n",
    "        \n",
    "        ## Adding the true labels to the global list.\n",
    "        yTrueAll.extend(list(labelBatchV.data.cpu().numpy()))"
   ]
  },
  {
   "cell_type": "code",
   "execution_count": 6,
   "metadata": {},
   "outputs": [
    {
     "name": "stdout",
     "output_type": "stream",
     "text": [
      "0.23076923076923078\n",
      "0.23501780264222746\n"
     ]
    },
    {
     "name": "stderr",
     "output_type": "stream",
     "text": [
      "/Users/rahulbaboota/Documents/ClusteringGithub/venv/lib/python3.7/site-packages/sklearn/metrics/cluster/supervised.py:859: FutureWarning: The behavior of NMI will change in version 0.22. To match the behavior of 'v_measure_score', NMI will use average_method='arithmetic' by default.\n",
      "  FutureWarning)\n"
     ]
    }
   ],
   "source": [
    "## Computing the test NMI and Purity.\n",
    "testPurity = purityScore(yPredAll, yTrueAll)\n",
    "testNMI = normalized_mutual_info_score(yPredAll, yTrueAll)\n",
    "\n",
    "print(testPurity)\n",
    "print(testNMI)"
   ]
  }
 ],
 "metadata": {
  "kernelspec": {
   "display_name": "Python 3",
   "language": "python",
   "name": "python3"
  },
  "language_info": {
   "codemirror_mode": {
    "name": "ipython",
    "version": 3
   },
   "file_extension": ".py",
   "mimetype": "text/x-python",
   "name": "python",
   "nbconvert_exporter": "python",
   "pygments_lexer": "ipython3",
   "version": "3.7.3"
  }
 },
 "nbformat": 4,
 "nbformat_minor": 2
}
